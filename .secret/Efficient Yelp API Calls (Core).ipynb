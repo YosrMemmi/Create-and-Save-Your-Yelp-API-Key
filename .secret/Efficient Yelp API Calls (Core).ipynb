{
 "cells": [
  {
   "cell_type": "code",
   "execution_count": 1,
   "id": "be2077de-f1fc-41fa-9f80-4d6e96fd825f",
   "metadata": {},
   "outputs": [],
   "source": [
    "# Standard Imports\n",
    "import numpy as np\n",
    "import pandas as pd\n",
    "import matplotlib.pyplot as plt\n",
    "import seaborn as sns\n",
    "# Additional Imports\n",
    "import os, json, math, time\n",
    "from yelpapi import YelpAPI\n",
    "from tqdm.notebook import tqdm_notebook\n",
    "\n"
   ]
  },
  {
   "cell_type": "code",
   "execution_count": 2,
   "id": "f6185c25-8a78-4595-a54f-434927c76128",
   "metadata": {},
   "outputs": [],
   "source": [
    "# Load API Credentials\n",
    "with open(\"C:/Users/Yosr/Documents/GitHub/Create-and-Save-Your-Yelp-API-Key/.secret/yelp_api.json\") as f:   #use your path here!\n",
    "    login = json.load(f)\n",
    "# Instantiate YelpAPI Variable\n",
    "yelp_api = YelpAPI(login['api-key'], timeout_s=5.0)\n",
    "\n"
   ]
  },
  {
   "cell_type": "code",
   "execution_count": 3,
   "id": "c96ba293-af11-4bf8-8869-d141ba17912e",
   "metadata": {},
   "outputs": [],
   "source": [
    "# set our API call parameters \n",
    "LOCATION = 'Baltimore'\n",
    "TERM = 'Seafood'\n"
   ]
  },
  {
   "cell_type": "code",
   "execution_count": 4,
   "id": "4b9bbf00-fb13-4002-b979-2663dbbd24c9",
   "metadata": {},
   "outputs": [
    {
     "data": {
      "text/plain": [
       "'C:/Users/Yosr/Documents/GitHub/Create-and-Save-Your-Yelp-API-Key/.secret//results_in_progress_Baltimore_Seafood.json'"
      ]
     },
     "execution_count": 4,
     "metadata": {},
     "output_type": "execute_result"
    }
   ],
   "source": [
    "# Specifying JSON_FILE filename (can include a folder)\n",
    "# include the search terms in the filename\n",
    "JSON_FILE = \"C:/Users/Yosr/Documents/GitHub/Create-and-Save-Your-Yelp-API-Key/.secret/results_in_progress_Baltimore_Seafood.json\"\n",
    "JSON_FILE\n",
    "\n"
   ]
  },
  {
   "cell_type": "code",
   "execution_count": 5,
   "id": "37a39314-21fd-4f82-96e8-e320c227cfd1",
   "metadata": {},
   "outputs": [
    {
     "name": "stdout",
     "output_type": "stream",
     "text": [
      "[i] C:/Users/Yosr/Documents/GitHub/Create-and-Save-Your-Yelp-API-Key/.secret//results_in_progress_Baltimore_Seafood.json not found. Saving empty list to file.\n"
     ]
    }
   ],
   "source": [
    "## Check if JSON_FILE exists\n",
    "file_exists = os.path.isfile(JSON_FILE)\n",
    "## If it does not exist: \n",
    "if file_exists == False:\n",
    "    \n",
    "    ## CREATE ANY NEEDED FOLDERS\n",
    "    # Get the Folder Name only\n",
    "    folder = os.path.dirname(JSON_FILE)\n",
    "    ## If JSON_FILE included a folder:\n",
    "    if len(folder)>0:\n",
    "        # create the folder\n",
    "        os.makedirs(folder,exist_ok=True)\n",
    "        \n",
    "        \n",
    "    ## INFORM USER AND SAVE EMPTY LIST\n",
    "    print(f'[i] {JSON_FILE} not found. Saving empty list to file.')\n",
    "    \n",
    "    \n",
    "    # save an empty list\n",
    "    with open(JSON_FILE,'w') as f:\n",
    "        json.dump([],f)  \n",
    "# If it exists, inform user\n",
    "else:\n",
    "    print(f\"[i] {JSON_FILE} already exists.\")\n"
   ]
  },
  {
   "cell_type": "code",
   "execution_count": 6,
   "id": "399b719a-695c-421f-bf45-69002a57808c",
   "metadata": {},
   "outputs": [
    {
     "name": "stdout",
     "output_type": "stream",
     "text": [
      "- 0 previous results found.\n"
     ]
    }
   ],
   "source": [
    "## Load previous results and use len of results for offset\n",
    "with open(JSON_FILE,'r') as f:\n",
    "    previous_results = json.load(f)\n",
    "    \n",
    "## set offset based on previous results\n",
    "n_results = len(previous_results)\n",
    "print(f'- {n_results} previous results found.')\n",
    "\n"
   ]
  },
  {
   "cell_type": "code",
   "execution_count": 7,
   "id": "730da088-105e-4b0a-a322-f85966c9a7fd",
   "metadata": {},
   "outputs": [
    {
     "data": {
      "text/plain": [
       "dict_keys(['businesses', 'total', 'region'])"
      ]
     },
     "execution_count": 7,
     "metadata": {},
     "output_type": "execute_result"
    }
   ],
   "source": [
    "# use our yelp_api variable's search_query method to perform our API call\n",
    "results = yelp_api.search_query(location=LOCATION,\n",
    "                                term=TERM,\n",
    "                               offset=n_results)\n",
    "results.keys()\n",
    "\n"
   ]
  },
  {
   "cell_type": "code",
   "execution_count": 8,
   "id": "62ae331c-adc0-4b0b-97d8-6cde5cd135d4",
   "metadata": {},
   "outputs": [
    {
     "data": {
      "text/plain": [
       "1400"
      ]
     },
     "execution_count": 8,
     "metadata": {},
     "output_type": "execute_result"
    }
   ],
   "source": [
    "## How many results total?\n",
    "total_results = results['total']\n",
    "total_results\n",
    "\n"
   ]
  },
  {
   "cell_type": "code",
   "execution_count": 9,
   "id": "0a38e16d-ec26-4463-8b9a-bc352eeeb796",
   "metadata": {},
   "outputs": [
    {
     "data": {
      "text/plain": [
       "20"
      ]
     },
     "execution_count": 9,
     "metadata": {},
     "output_type": "execute_result"
    }
   ],
   "source": [
    "## How many did we get the details for?\n",
    "results_per_page = len(results['businesses'])\n",
    "results_per_page\n",
    "\n"
   ]
  },
  {
   "cell_type": "code",
   "execution_count": 10,
   "id": "fedeb7ba-a75a-48bc-9208-4872e2ce6429",
   "metadata": {},
   "outputs": [
    {
     "data": {
      "text/plain": [
       "70"
      ]
     },
     "execution_count": 10,
     "metadata": {},
     "output_type": "execute_result"
    }
   ],
   "source": [
    "# Import additional packages for controlling our loop\n",
    "import time, math\n",
    "# Use math.ceil to round up for the total number of pages of results.\n",
    "n_pages = math.ceil((results['total']-n_results)/ results_per_page)\n",
    "n_pages\n",
    "\n"
   ]
  },
  {
   "cell_type": "code",
   "execution_count": 11,
   "id": "5f3cb0ab-27f3-44ef-b46b-b985cfb5ba54",
   "metadata": {},
   "outputs": [],
   "source": [
    "# join new results with old list with extend and save to file\n",
    "previous_results.extend(results['businesses'])  \n",
    "with open(JSON_FILE,'w') as f:\n",
    "     json.dump(previous_results,f)\n"
   ]
  },
  {
   "cell_type": "code",
   "execution_count": 13,
   "id": "ebba371b-566e-4b21-a53d-d98feee4b3aa",
   "metadata": {},
   "outputs": [],
   "source": [
    "def create_json_file(JSON_FILE,  delete_if_exists=False):\n",
    "    \n",
    "    ## Check if JSON_FILE exists\n",
    "    file_exists = os.path.isfile(JSON_FILE)\n",
    "    \n",
    "    ## If it DOES exist:\n",
    "    if file_exists == True:\n",
    "        \n",
    "        ## Check if user wants to delete if exists\n",
    "        if delete_if_exists==True:\n",
    "            \n",
    "            print(f\"[!] {JSON_FILE} already exists. Deleting previous file...\")\n",
    "            ## delete file and confirm it no longer exits.\n",
    "            os.remove(JSON_FILE)\n",
    "            ## Recursive call to function after old file deleted\n",
    "            create_json_file(JSON_FILE,delete_if_exists=False)\n",
    "        else:\n",
    "            print(f\"[i] {JSON_FILE} already exists.\")            \n",
    "            \n",
    "            \n",
    "    ## If it does NOT exist:\n",
    "    else:\n",
    "        \n",
    "        ## INFORM USER AND SAVE EMPTY LIST\n",
    "        print(f\"[i] {JSON_FILE} not found. Saving empty list to new file.\")\n",
    "        \n",
    "        ## CREATE ANY NEEDED FOLDERS\n",
    "        # Get the Folder Name only\n",
    "        folder = os.path.dirname(JSON_FILE)\n",
    "        \n",
    "        ## If JSON_FILE included a folder:\n",
    "        if len(folder)>0:\n",
    "            # create the folder\n",
    "            os.makedirs(folder,exist_ok=True)\n",
    "        ## Save empty list to start the json file\n",
    "        with open(JSON_FILE,'w') as f:\n",
    "            json.dump([],f)  \n",
    "\n"
   ]
  },
  {
   "cell_type": "code",
   "execution_count": 14,
   "id": "86cfc7de-7312-4d6f-8d83-4e53b32c17f1",
   "metadata": {},
   "outputs": [
    {
     "name": "stdout",
     "output_type": "stream",
     "text": [
      "[i] C:/Users/Yosr/Documents/GitHub/Create-and-Save-Your-Yelp-API-Key/.secret//results_in_progress_Baltimore_Seafood.json not found. Saving empty list to new file.\n",
      "- 0 previous results found.\n"
     ]
    },
    {
     "data": {
      "text/plain": [
       "70"
      ]
     },
     "execution_count": 14,
     "metadata": {},
     "output_type": "execute_result"
    }
   ],
   "source": [
    "## Create a new empty json file (exist the previous if it exists)\n",
    "create_json_file(JSON_FILE, delete_if_exists=True)\n",
    "## Load previous results and use len of results for offset\n",
    "with open(JSON_FILE,'r') as f:\n",
    "    previous_results = json.load(f)\n",
    "    \n",
    "## set offset based on previous results\n",
    "n_results = len(previous_results)\n",
    "print(f'- {n_results} previous results found.')\n",
    "# use our yelp_api variable's search_query method to perform our API call\n",
    "results = yelp_api.search_query(location=LOCATION,\n",
    "                                term=TERM,\n",
    "                               offset=n_results)\n",
    "## How many results total?\n",
    "total_results = results['total']\n",
    "## How many did we get the details for?\n",
    "results_per_page = len(results['businesses'])\n",
    "# Use math.ceil to round up for the total number of pages of results.\n",
    "n_pages = math.ceil((results['total']-n_results)/ results_per_page)\n",
    "n_pages\n",
    "\n"
   ]
  },
  {
   "cell_type": "code",
   "execution_count": 15,
   "id": "a72df0e7-4ebf-49bb-ba7e-b975bd808887",
   "metadata": {},
   "outputs": [
    {
     "data": {
      "application/vnd.jupyter.widget-view+json": {
       "model_id": "c8da239789a4441699ed77493668d1b9",
       "version_major": 2,
       "version_minor": 0
      },
      "text/plain": [
       "  0%|          | 0/70 [00:00<?, ?it/s]"
      ]
     },
     "metadata": {},
     "output_type": "display_data"
    },
    {
     "name": "stdout",
     "output_type": "stream",
     "text": [
      "Exceeded 1000 api calls. Stopping loop.\n"
     ]
    }
   ],
   "source": [
    "for i in tqdm_notebook( range(1,n_pages+1)):\n",
    "    \n",
    "    ## Read in results in progress file and check the length\n",
    "    with open(JSON_FILE, 'r') as f:\n",
    "        previous_results = json.load(f)\n",
    "    ## save number of results for to use as offset\n",
    "    n_results = len(previous_results)\n",
    "    \n",
    "    if (n_results + results_per_page) > 1000:\n",
    "        print('Exceeded 1000 api calls. Stopping loop.')\n",
    "        break\n",
    "    \n",
    "    ## use n_results as the OFFSET \n",
    "    results = yelp_api.search_query(location=LOCATION,\n",
    "                                    term=TERM, \n",
    "                                    offset=n_results)\n",
    "    \n",
    "    \n",
    "    \n",
    "    ## append new results and save to file\n",
    "    previous_results.extend(results['businesses'])\n",
    "    \n",
    "    # display(previous_results)\n",
    "    with open(JSON_FILE,'w') as f:\n",
    "        json.dump(previous_results,f)\n",
    "    \n",
    "    time.sleep(.2)\n",
    "\n"
   ]
  },
  {
   "cell_type": "code",
   "execution_count": 16,
   "id": "c7d55d78-c1a0-4871-86d4-11d7714f3f35",
   "metadata": {},
   "outputs": [
    {
     "data": {
      "text/html": [
       "<div>\n",
       "<style scoped>\n",
       "    .dataframe tbody tr th:only-of-type {\n",
       "        vertical-align: middle;\n",
       "    }\n",
       "\n",
       "    .dataframe tbody tr th {\n",
       "        vertical-align: top;\n",
       "    }\n",
       "\n",
       "    .dataframe thead th {\n",
       "        text-align: right;\n",
       "    }\n",
       "</style>\n",
       "<table border=\"1\" class=\"dataframe\">\n",
       "  <thead>\n",
       "    <tr style=\"text-align: right;\">\n",
       "      <th></th>\n",
       "      <th>id</th>\n",
       "      <th>alias</th>\n",
       "      <th>name</th>\n",
       "      <th>image_url</th>\n",
       "      <th>is_closed</th>\n",
       "      <th>url</th>\n",
       "      <th>review_count</th>\n",
       "      <th>categories</th>\n",
       "      <th>rating</th>\n",
       "      <th>coordinates</th>\n",
       "      <th>transactions</th>\n",
       "      <th>price</th>\n",
       "      <th>location</th>\n",
       "      <th>phone</th>\n",
       "      <th>display_phone</th>\n",
       "      <th>distance</th>\n",
       "    </tr>\n",
       "  </thead>\n",
       "  <tbody>\n",
       "    <tr>\n",
       "      <th>0</th>\n",
       "      <td>ieS_5zqxDHcWMCm8BKUYbg</td>\n",
       "      <td>thames-street-oyster-house-baltimore</td>\n",
       "      <td>Thames Street Oyster House</td>\n",
       "      <td>https://s3-media4.fl.yelpcdn.com/bphoto/SLti9z...</td>\n",
       "      <td>False</td>\n",
       "      <td>https://www.yelp.com/biz/thames-street-oyster-...</td>\n",
       "      <td>3138</td>\n",
       "      <td>[{'alias': 'seafood', 'title': 'Seafood'}, {'a...</td>\n",
       "      <td>4.5</td>\n",
       "      <td>{'latitude': 39.28214, 'longitude': -76.59162}</td>\n",
       "      <td>[delivery]</td>\n",
       "      <td>$$$</td>\n",
       "      <td>{'address1': '1728 Thames St', 'address2': '',...</td>\n",
       "      <td>+14434497726</td>\n",
       "      <td>(443) 449-7726</td>\n",
       "      <td>3377.766396</td>\n",
       "    </tr>\n",
       "    <tr>\n",
       "      <th>1</th>\n",
       "      <td>1C8QSqc-erkkyAUywh501A</td>\n",
       "      <td>angies-seafood-baltimore</td>\n",
       "      <td>Angie's Seafood</td>\n",
       "      <td>https://s3-media2.fl.yelpcdn.com/bphoto/cgqaFi...</td>\n",
       "      <td>False</td>\n",
       "      <td>https://www.yelp.com/biz/angies-seafood-baltim...</td>\n",
       "      <td>1024</td>\n",
       "      <td>[{'alias': 'seafood', 'title': 'Seafood'}, {'a...</td>\n",
       "      <td>4.4</td>\n",
       "      <td>{'latitude': 39.289111, 'longitude': -76.592704}</td>\n",
       "      <td>[pickup, delivery]</td>\n",
       "      <td>$$</td>\n",
       "      <td>{'address1': '1727 E Pratt St', 'address2': No...</td>\n",
       "      <td>+14103420917</td>\n",
       "      <td>(410) 342-0917</td>\n",
       "      <td>2641.993103</td>\n",
       "    </tr>\n",
       "    <tr>\n",
       "      <th>2</th>\n",
       "      <td>BhnCaqbJtWrC36eVxlewSw</td>\n",
       "      <td>l-p-steamers-baltimore</td>\n",
       "      <td>L P Steamers</td>\n",
       "      <td>https://s3-media3.fl.yelpcdn.com/bphoto/Ctttm9...</td>\n",
       "      <td>False</td>\n",
       "      <td>https://www.yelp.com/biz/l-p-steamers-baltimor...</td>\n",
       "      <td>1900</td>\n",
       "      <td>[{'alias': 'seafood', 'title': 'Seafood'}]</td>\n",
       "      <td>4.2</td>\n",
       "      <td>{'latitude': 39.27093, 'longitude': -76.59861}</td>\n",
       "      <td>[pickup]</td>\n",
       "      <td>$$</td>\n",
       "      <td>{'address1': '1100 E Fort Ave', 'address2': ''...</td>\n",
       "      <td>+14105769294</td>\n",
       "      <td>(410) 576-9294</td>\n",
       "      <td>4363.353080</td>\n",
       "    </tr>\n",
       "    <tr>\n",
       "      <th>3</th>\n",
       "      <td>D9A33FM394q99o4QtK5YwA</td>\n",
       "      <td>faidleys-seafood-baltimore-3</td>\n",
       "      <td>Faidley's Seafood</td>\n",
       "      <td>https://s3-media3.fl.yelpcdn.com/bphoto/Rw16OE...</td>\n",
       "      <td>False</td>\n",
       "      <td>https://www.yelp.com/biz/faidleys-seafood-balt...</td>\n",
       "      <td>1315</td>\n",
       "      <td>[{'alias': 'seafoodmarkets', 'title': 'Seafood...</td>\n",
       "      <td>4.2</td>\n",
       "      <td>{'latitude': 39.291696, 'longitude': -76.62224}</td>\n",
       "      <td>[delivery]</td>\n",
       "      <td>$$</td>\n",
       "      <td>{'address1': '203 N Paca St', 'address2': '', ...</td>\n",
       "      <td>+14107274898</td>\n",
       "      <td>(410) 727-4898</td>\n",
       "      <td>2261.836419</td>\n",
       "    </tr>\n",
       "    <tr>\n",
       "      <th>4</th>\n",
       "      <td>VLGdENTqjFJuCjg1SbW7_g</td>\n",
       "      <td>nicks-fish-house-baltimore</td>\n",
       "      <td>Nicks Fish House</td>\n",
       "      <td>https://s3-media3.fl.yelpcdn.com/bphoto/_oQF05...</td>\n",
       "      <td>False</td>\n",
       "      <td>https://www.yelp.com/biz/nicks-fish-house-balt...</td>\n",
       "      <td>1189</td>\n",
       "      <td>[{'alias': 'seafood', 'title': 'Seafood'}]</td>\n",
       "      <td>4.0</td>\n",
       "      <td>{'latitude': 39.26036, 'longitude': -76.61421}</td>\n",
       "      <td>[pickup]</td>\n",
       "      <td>$$</td>\n",
       "      <td>{'address1': '2600 Insulator Dr', 'address2': ...</td>\n",
       "      <td>+14103474123</td>\n",
       "      <td>(410) 347-4123</td>\n",
       "      <td>5420.410604</td>\n",
       "    </tr>\n",
       "  </tbody>\n",
       "</table>\n",
       "</div>"
      ],
      "text/plain": [
       "                       id                                 alias  \\\n",
       "0  ieS_5zqxDHcWMCm8BKUYbg  thames-street-oyster-house-baltimore   \n",
       "1  1C8QSqc-erkkyAUywh501A              angies-seafood-baltimore   \n",
       "2  BhnCaqbJtWrC36eVxlewSw                l-p-steamers-baltimore   \n",
       "3  D9A33FM394q99o4QtK5YwA          faidleys-seafood-baltimore-3   \n",
       "4  VLGdENTqjFJuCjg1SbW7_g            nicks-fish-house-baltimore   \n",
       "\n",
       "                         name  \\\n",
       "0  Thames Street Oyster House   \n",
       "1             Angie's Seafood   \n",
       "2                L P Steamers   \n",
       "3           Faidley's Seafood   \n",
       "4            Nicks Fish House   \n",
       "\n",
       "                                           image_url  is_closed  \\\n",
       "0  https://s3-media4.fl.yelpcdn.com/bphoto/SLti9z...      False   \n",
       "1  https://s3-media2.fl.yelpcdn.com/bphoto/cgqaFi...      False   \n",
       "2  https://s3-media3.fl.yelpcdn.com/bphoto/Ctttm9...      False   \n",
       "3  https://s3-media3.fl.yelpcdn.com/bphoto/Rw16OE...      False   \n",
       "4  https://s3-media3.fl.yelpcdn.com/bphoto/_oQF05...      False   \n",
       "\n",
       "                                                 url  review_count  \\\n",
       "0  https://www.yelp.com/biz/thames-street-oyster-...          3138   \n",
       "1  https://www.yelp.com/biz/angies-seafood-baltim...          1024   \n",
       "2  https://www.yelp.com/biz/l-p-steamers-baltimor...          1900   \n",
       "3  https://www.yelp.com/biz/faidleys-seafood-balt...          1315   \n",
       "4  https://www.yelp.com/biz/nicks-fish-house-balt...          1189   \n",
       "\n",
       "                                          categories  rating  \\\n",
       "0  [{'alias': 'seafood', 'title': 'Seafood'}, {'a...     4.5   \n",
       "1  [{'alias': 'seafood', 'title': 'Seafood'}, {'a...     4.4   \n",
       "2         [{'alias': 'seafood', 'title': 'Seafood'}]     4.2   \n",
       "3  [{'alias': 'seafoodmarkets', 'title': 'Seafood...     4.2   \n",
       "4         [{'alias': 'seafood', 'title': 'Seafood'}]     4.0   \n",
       "\n",
       "                                        coordinates        transactions price  \\\n",
       "0    {'latitude': 39.28214, 'longitude': -76.59162}          [delivery]   $$$   \n",
       "1  {'latitude': 39.289111, 'longitude': -76.592704}  [pickup, delivery]    $$   \n",
       "2    {'latitude': 39.27093, 'longitude': -76.59861}            [pickup]    $$   \n",
       "3   {'latitude': 39.291696, 'longitude': -76.62224}          [delivery]    $$   \n",
       "4    {'latitude': 39.26036, 'longitude': -76.61421}            [pickup]    $$   \n",
       "\n",
       "                                            location         phone  \\\n",
       "0  {'address1': '1728 Thames St', 'address2': '',...  +14434497726   \n",
       "1  {'address1': '1727 E Pratt St', 'address2': No...  +14103420917   \n",
       "2  {'address1': '1100 E Fort Ave', 'address2': ''...  +14105769294   \n",
       "3  {'address1': '203 N Paca St', 'address2': '', ...  +14107274898   \n",
       "4  {'address1': '2600 Insulator Dr', 'address2': ...  +14103474123   \n",
       "\n",
       "    display_phone     distance  \n",
       "0  (443) 449-7726  3377.766396  \n",
       "1  (410) 342-0917  2641.993103  \n",
       "2  (410) 576-9294  4363.353080  \n",
       "3  (410) 727-4898  2261.836419  \n",
       "4  (410) 347-4123  5420.410604  "
      ]
     },
     "metadata": {},
     "output_type": "display_data"
    },
    {
     "data": {
      "text/html": [
       "<div>\n",
       "<style scoped>\n",
       "    .dataframe tbody tr th:only-of-type {\n",
       "        vertical-align: middle;\n",
       "    }\n",
       "\n",
       "    .dataframe tbody tr th {\n",
       "        vertical-align: top;\n",
       "    }\n",
       "\n",
       "    .dataframe thead th {\n",
       "        text-align: right;\n",
       "    }\n",
       "</style>\n",
       "<table border=\"1\" class=\"dataframe\">\n",
       "  <thead>\n",
       "    <tr style=\"text-align: right;\">\n",
       "      <th></th>\n",
       "      <th>id</th>\n",
       "      <th>alias</th>\n",
       "      <th>name</th>\n",
       "      <th>image_url</th>\n",
       "      <th>is_closed</th>\n",
       "      <th>url</th>\n",
       "      <th>review_count</th>\n",
       "      <th>categories</th>\n",
       "      <th>rating</th>\n",
       "      <th>coordinates</th>\n",
       "      <th>transactions</th>\n",
       "      <th>price</th>\n",
       "      <th>location</th>\n",
       "      <th>phone</th>\n",
       "      <th>display_phone</th>\n",
       "      <th>distance</th>\n",
       "    </tr>\n",
       "  </thead>\n",
       "  <tbody>\n",
       "    <tr>\n",
       "      <th>995</th>\n",
       "      <td>-EqRC5drgdwZwfvGrg518w</td>\n",
       "      <td>manna-rang-catonsville</td>\n",
       "      <td>Manna Rang</td>\n",
       "      <td>https://s3-media3.fl.yelpcdn.com/bphoto/OHxOwu...</td>\n",
       "      <td>False</td>\n",
       "      <td>https://www.yelp.com/biz/manna-rang-catonsvill...</td>\n",
       "      <td>30</td>\n",
       "      <td>[{'alias': 'korean', 'title': 'Korean'}]</td>\n",
       "      <td>3.5</td>\n",
       "      <td>{'latitude': 39.282715, 'longitude': -76.755361}</td>\n",
       "      <td>[delivery]</td>\n",
       "      <td>$</td>\n",
       "      <td>{'address1': '800 N Rolling Rd', 'address2': '...</td>\n",
       "      <td>+14436129029</td>\n",
       "      <td>(443) 612-9029</td>\n",
       "      <td>12933.267765</td>\n",
       "    </tr>\n",
       "    <tr>\n",
       "      <th>996</th>\n",
       "      <td>X0FAvERa1RL3XJ4yZwRSyg</td>\n",
       "      <td>nicks-pizza-baltimore</td>\n",
       "      <td>Nick's Pizza</td>\n",
       "      <td>https://s3-media3.fl.yelpcdn.com/bphoto/hwzxg5...</td>\n",
       "      <td>False</td>\n",
       "      <td>https://www.yelp.com/biz/nicks-pizza-baltimore...</td>\n",
       "      <td>15</td>\n",
       "      <td>[{'alias': 'pizza', 'title': 'Pizza'}, {'alias...</td>\n",
       "      <td>2.1</td>\n",
       "      <td>{'latitude': 39.2807108978229, 'longitude': -7...</td>\n",
       "      <td>[delivery, pickup]</td>\n",
       "      <td>NaN</td>\n",
       "      <td>{'address1': '2200 Wilkens', 'address2': '', '...</td>\n",
       "      <td>+14105665333</td>\n",
       "      <td>(410) 566-5333</td>\n",
       "      <td>4785.865272</td>\n",
       "    </tr>\n",
       "    <tr>\n",
       "      <th>997</th>\n",
       "      <td>aymXOEor5iwV4K8FDWIuYg</td>\n",
       "      <td>aji-sushi-owings-mills-2</td>\n",
       "      <td>Aji Sushi</td>\n",
       "      <td>https://s3-media1.fl.yelpcdn.com/bphoto/ed0-eU...</td>\n",
       "      <td>False</td>\n",
       "      <td>https://www.yelp.com/biz/aji-sushi-owings-mill...</td>\n",
       "      <td>18</td>\n",
       "      <td>[{'alias': 'sushi', 'title': 'Sushi Bars'}, {'...</td>\n",
       "      <td>4.3</td>\n",
       "      <td>{'latitude': 39.4185567, 'longitude': -76.7767...</td>\n",
       "      <td>[delivery, pickup]</td>\n",
       "      <td>NaN</td>\n",
       "      <td>{'address1': '10347 Reisterstown Rd', 'address...</td>\n",
       "      <td>+14103637720</td>\n",
       "      <td>(410) 363-7720</td>\n",
       "      <td>18857.209657</td>\n",
       "    </tr>\n",
       "    <tr>\n",
       "      <th>998</th>\n",
       "      <td>I0NdWFRJBxuxGQgrbwbuVw</td>\n",
       "      <td>china-east-baltimore</td>\n",
       "      <td>China East</td>\n",
       "      <td>https://s3-media3.fl.yelpcdn.com/bphoto/XsqTy7...</td>\n",
       "      <td>False</td>\n",
       "      <td>https://www.yelp.com/biz/china-east-baltimore?...</td>\n",
       "      <td>32</td>\n",
       "      <td>[{'alias': 'chinese', 'title': 'Chinese'}]</td>\n",
       "      <td>2.7</td>\n",
       "      <td>{'latitude': 39.28728016654823, 'longitude': -...</td>\n",
       "      <td>[delivery, pickup]</td>\n",
       "      <td>$$</td>\n",
       "      <td>{'address1': '4712 Eastern Ave', 'address2': '...</td>\n",
       "      <td>+14106336699</td>\n",
       "      <td>(410) 633-6699</td>\n",
       "      <td>5167.014800</td>\n",
       "    </tr>\n",
       "    <tr>\n",
       "      <th>999</th>\n",
       "      <td>yllf6v4-mGd2kMx8h7TPRA</td>\n",
       "      <td>szechuan-hot-wok-linthicum-heights</td>\n",
       "      <td>Szechuan Hot Wok</td>\n",
       "      <td>https://s3-media2.fl.yelpcdn.com/bphoto/TalMRp...</td>\n",
       "      <td>False</td>\n",
       "      <td>https://www.yelp.com/biz/szechuan-hot-wok-lint...</td>\n",
       "      <td>35</td>\n",
       "      <td>[{'alias': 'szechuan', 'title': 'Szechuan'}]</td>\n",
       "      <td>3.4</td>\n",
       "      <td>{'latitude': 39.2243799, 'longitude': -76.66488}</td>\n",
       "      <td>[delivery, pickup]</td>\n",
       "      <td>$</td>\n",
       "      <td>{'address1': '831 Nursery Rd', 'address2': '',...</td>\n",
       "      <td>+14106360102</td>\n",
       "      <td>(410) 636-0102</td>\n",
       "      <td>10603.349253</td>\n",
       "    </tr>\n",
       "  </tbody>\n",
       "</table>\n",
       "</div>"
      ],
      "text/plain": [
       "                         id                               alias  \\\n",
       "995  -EqRC5drgdwZwfvGrg518w              manna-rang-catonsville   \n",
       "996  X0FAvERa1RL3XJ4yZwRSyg               nicks-pizza-baltimore   \n",
       "997  aymXOEor5iwV4K8FDWIuYg            aji-sushi-owings-mills-2   \n",
       "998  I0NdWFRJBxuxGQgrbwbuVw                china-east-baltimore   \n",
       "999  yllf6v4-mGd2kMx8h7TPRA  szechuan-hot-wok-linthicum-heights   \n",
       "\n",
       "                 name                                          image_url  \\\n",
       "995        Manna Rang  https://s3-media3.fl.yelpcdn.com/bphoto/OHxOwu...   \n",
       "996      Nick's Pizza  https://s3-media3.fl.yelpcdn.com/bphoto/hwzxg5...   \n",
       "997         Aji Sushi  https://s3-media1.fl.yelpcdn.com/bphoto/ed0-eU...   \n",
       "998        China East  https://s3-media3.fl.yelpcdn.com/bphoto/XsqTy7...   \n",
       "999  Szechuan Hot Wok  https://s3-media2.fl.yelpcdn.com/bphoto/TalMRp...   \n",
       "\n",
       "     is_closed                                                url  \\\n",
       "995      False  https://www.yelp.com/biz/manna-rang-catonsvill...   \n",
       "996      False  https://www.yelp.com/biz/nicks-pizza-baltimore...   \n",
       "997      False  https://www.yelp.com/biz/aji-sushi-owings-mill...   \n",
       "998      False  https://www.yelp.com/biz/china-east-baltimore?...   \n",
       "999      False  https://www.yelp.com/biz/szechuan-hot-wok-lint...   \n",
       "\n",
       "     review_count                                         categories  rating  \\\n",
       "995            30           [{'alias': 'korean', 'title': 'Korean'}]     3.5   \n",
       "996            15  [{'alias': 'pizza', 'title': 'Pizza'}, {'alias...     2.1   \n",
       "997            18  [{'alias': 'sushi', 'title': 'Sushi Bars'}, {'...     4.3   \n",
       "998            32         [{'alias': 'chinese', 'title': 'Chinese'}]     2.7   \n",
       "999            35       [{'alias': 'szechuan', 'title': 'Szechuan'}]     3.4   \n",
       "\n",
       "                                           coordinates        transactions  \\\n",
       "995   {'latitude': 39.282715, 'longitude': -76.755361}          [delivery]   \n",
       "996  {'latitude': 39.2807108978229, 'longitude': -7...  [delivery, pickup]   \n",
       "997  {'latitude': 39.4185567, 'longitude': -76.7767...  [delivery, pickup]   \n",
       "998  {'latitude': 39.28728016654823, 'longitude': -...  [delivery, pickup]   \n",
       "999   {'latitude': 39.2243799, 'longitude': -76.66488}  [delivery, pickup]   \n",
       "\n",
       "    price                                           location         phone  \\\n",
       "995     $  {'address1': '800 N Rolling Rd', 'address2': '...  +14436129029   \n",
       "996   NaN  {'address1': '2200 Wilkens', 'address2': '', '...  +14105665333   \n",
       "997   NaN  {'address1': '10347 Reisterstown Rd', 'address...  +14103637720   \n",
       "998    $$  {'address1': '4712 Eastern Ave', 'address2': '...  +14106336699   \n",
       "999     $  {'address1': '831 Nursery Rd', 'address2': '',...  +14106360102   \n",
       "\n",
       "      display_phone      distance  \n",
       "995  (443) 612-9029  12933.267765  \n",
       "996  (410) 566-5333   4785.865272  \n",
       "997  (410) 363-7720  18857.209657  \n",
       "998  (410) 633-6699   5167.014800  \n",
       "999  (410) 636-0102  10603.349253  "
      ]
     },
     "metadata": {},
     "output_type": "display_data"
    }
   ],
   "source": [
    "# load final results\n",
    "final_df = pd.read_json(JSON_FILE)\n",
    "display(final_df.head(), final_df.tail())\n"
   ]
  },
  {
   "cell_type": "code",
   "execution_count": 18,
   "id": "8242f0ce-933a-4dd2-94e1-4eac9493b461",
   "metadata": {},
   "outputs": [
    {
     "data": {
      "text/plain": [
       "0"
      ]
     },
     "execution_count": 18,
     "metadata": {},
     "output_type": "execute_result"
    }
   ],
   "source": [
    "# check for duplicate ID's \n",
    "final_df.duplicated(subset='id').sum()\n",
    "\n"
   ]
  },
  {
   "cell_type": "code",
   "execution_count": 20,
   "id": "29c43887-6519-432e-83da-b29c18621eb1",
   "metadata": {},
   "outputs": [
    {
     "ename": "SyntaxError",
     "evalue": "unterminated string literal (detected at line 2) (3575634088.py, line 2)",
     "output_type": "error",
     "traceback": [
      "\u001b[1;36m  Cell \u001b[1;32mIn[20], line 2\u001b[1;36m\u001b[0m\n\u001b[1;33m    final_df.to_csv(\"C:/Users/Yosr/Documents/GitHub/Create-and-Save-Your-Yelp-API-Key/.secret/final_results_Baltimore_Xeafood.csv.gz', compression='gzip',index=False)\u001b[0m\n\u001b[1;37m                    ^\u001b[0m\n\u001b[1;31mSyntaxError\u001b[0m\u001b[1;31m:\u001b[0m unterminated string literal (detected at line 2)\n"
     ]
    }
   ],
   "source": [
    "# save the final results to a compressed csv\n",
    "final_df.to_csv(\"C:/Users/Yosr/Documents/GitHub/Create-and-Save-Your-Yelp-API-Key/.secret/final_results_Baltimore_Seafood.csv.gz', compression='gzip',index=False)\n",
    "\n"
   ]
  },
  {
   "cell_type": "code",
   "execution_count": null,
   "id": "f9bb8566-fbf5-4232-aa40-8c0c57bba87a",
   "metadata": {},
   "outputs": [],
   "source": []
  }
 ],
 "metadata": {
  "kernelspec": {
   "display_name": "Python (dojo-env)",
   "language": "python",
   "name": "dojo-env"
  },
  "language_info": {
   "codemirror_mode": {
    "name": "ipython",
    "version": 3
   },
   "file_extension": ".py",
   "mimetype": "text/x-python",
   "name": "python",
   "nbconvert_exporter": "python",
   "pygments_lexer": "ipython3",
   "version": "3.10.10"
  },
  "widgets": {
   "application/vnd.jupyter.widget-state+json": {
    "state": {
     "108efc365ba94fa0a317492ba96d6019": {
      "model_module": "@jupyter-widgets/base",
      "model_module_version": "2.0.0",
      "model_name": "LayoutModel",
      "state": {}
     },
     "2f6d7a07a85c49d0a6be8894ba5e7c82": {
      "model_module": "@jupyter-widgets/controls",
      "model_module_version": "2.0.0",
      "model_name": "HTMLStyleModel",
      "state": {
       "description_width": "",
       "font_size": null,
       "text_color": null
      }
     },
     "37408cc1233d4cb9816ed9366addefae": {
      "model_module": "@jupyter-widgets/base",
      "model_module_version": "2.0.0",
      "model_name": "LayoutModel",
      "state": {}
     },
     "3b279aac09c44fc393c8e9b0ebd47206": {
      "model_module": "@jupyter-widgets/base",
      "model_module_version": "2.0.0",
      "model_name": "LayoutModel",
      "state": {}
     },
     "4eaf65959e11497ba94fefea54389a38": {
      "model_module": "@jupyter-widgets/controls",
      "model_module_version": "2.0.0",
      "model_name": "ProgressStyleModel",
      "state": {
       "description_width": ""
      }
     },
     "53a72754a22947bdaaa5bd10e48dd333": {
      "model_module": "@jupyter-widgets/controls",
      "model_module_version": "2.0.0",
      "model_name": "FloatProgressModel",
      "state": {
       "bar_style": "danger",
       "layout": "IPY_MODEL_37408cc1233d4cb9816ed9366addefae",
       "max": 70,
       "style": "IPY_MODEL_4eaf65959e11497ba94fefea54389a38",
       "value": 50
      }
     },
     "8ee6cf01b6ea4eeb9d35250360b17ae9": {
      "model_module": "@jupyter-widgets/controls",
      "model_module_version": "2.0.0",
      "model_name": "HTMLModel",
      "state": {
       "layout": "IPY_MODEL_108efc365ba94fa0a317492ba96d6019",
       "style": "IPY_MODEL_2f6d7a07a85c49d0a6be8894ba5e7c82",
       "value": " 71%"
      }
     },
     "94d2702352a64effa1aa7d9475849a40": {
      "model_module": "@jupyter-widgets/controls",
      "model_module_version": "2.0.0",
      "model_name": "HTMLModel",
      "state": {
       "layout": "IPY_MODEL_a505c79c94264dd0aef72ec93266eda0",
       "style": "IPY_MODEL_e987ad2af7664af5aa964bc705835b2d",
       "value": " 50/70 [01:14&lt;00:34,  1.70s/it]"
      }
     },
     "a505c79c94264dd0aef72ec93266eda0": {
      "model_module": "@jupyter-widgets/base",
      "model_module_version": "2.0.0",
      "model_name": "LayoutModel",
      "state": {}
     },
     "c8da239789a4441699ed77493668d1b9": {
      "model_module": "@jupyter-widgets/controls",
      "model_module_version": "2.0.0",
      "model_name": "HBoxModel",
      "state": {
       "children": [
        "IPY_MODEL_8ee6cf01b6ea4eeb9d35250360b17ae9",
        "IPY_MODEL_53a72754a22947bdaaa5bd10e48dd333",
        "IPY_MODEL_94d2702352a64effa1aa7d9475849a40"
       ],
       "layout": "IPY_MODEL_3b279aac09c44fc393c8e9b0ebd47206"
      }
     },
     "e987ad2af7664af5aa964bc705835b2d": {
      "model_module": "@jupyter-widgets/controls",
      "model_module_version": "2.0.0",
      "model_name": "HTMLStyleModel",
      "state": {
       "description_width": "",
       "font_size": null,
       "text_color": null
      }
     }
    },
    "version_major": 2,
    "version_minor": 0
   }
  }
 },
 "nbformat": 4,
 "nbformat_minor": 5
}
